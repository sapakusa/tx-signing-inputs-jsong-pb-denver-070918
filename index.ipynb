{
 "cells": [
  {
   "cell_type": "markdown",
   "metadata": {},
   "source": [
    "# Signing Transactions Exercise"
   ]
  },
  {
   "cell_type": "markdown",
   "metadata": {},
   "source": [
    "### Test Driven Exercise\n",
    "\n",
    "The actual signing of the transaction is the trickiest part. Thankfully, we know how to get the sighash, or the z. We have to have the private key to actually sign the transaction and signing the `z` to produce the `r` and `s` of the signature is exactly what we need to do."
   ]
  },
  {
   "cell_type": "code",
   "execution_count": 1,
   "metadata": {},
   "outputs": [],
   "source": [
    "from ecc import PrivateKey\n",
    "from tx import Tx, TxIn, TxOut\n",
    "from helper import (\n",
    "    decode_base58,\n",
    "    p2pkh_script,\n",
    "    SIGHASH_ALL\n",
    ")\n",
    "\n",
    "class Tx(Tx):\n",
    "\n",
    "    def sign_input(self, input_index, private_key, hash_type):\n",
    "        '''Signs the input using the private key'''\n",
    "        # get the sig hash (z)\n",
    "        z = self.sig_hash(input_index, hash_type)\n",
    "        # get der signature of z from private key\n",
    "        der = private_key.sign(z).der()\n",
    "        # append the hash_type to der (use hash_type.to_bytes(1, 'big'))\n",
    "        sig = der + bytes([hash_type])\n",
    "        # calculate the sec\n",
    "        sec = private_key.point.sec()\n",
    "        # initialize a new script with [sig, sec] as the elements\n",
    "        script_sig = Script([sig,sec])\n",
    "        # change input's script_sig to new script\n",
    "        self.tx_ins[input_index].script_sig = script_sig\n",
    "        # return whether sig is valid using self.verify_input\n",
    "        return self.verify_input(input_index)"
   ]
  },
  {
   "cell_type": "code",
   "execution_count": null,
   "metadata": {},
   "outputs": [],
   "source": []
  }
 ],
 "metadata": {
  "kernelspec": {
   "display_name": "Python 3",
   "language": "python",
   "name": "python3"
  },
  "language_info": {
   "codemirror_mode": {
    "name": "ipython",
    "version": 3
   },
   "file_extension": ".py",
   "mimetype": "text/x-python",
   "name": "python",
   "nbconvert_exporter": "python",
   "pygments_lexer": "ipython3",
   "version": "3.6.4"
  }
 },
 "nbformat": 4,
 "nbformat_minor": 2
}
